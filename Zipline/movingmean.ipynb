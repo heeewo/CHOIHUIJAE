{
 "cells": [
  {
   "cell_type": "code",
   "execution_count": 1,
   "metadata": {},
   "outputs": [],
   "source": [
    "import pandas_datareader.data as dr"
   ]
  },
  {
   "cell_type": "code",
   "execution_count": 2,
   "metadata": {},
   "outputs": [],
   "source": [
    "import datetime"
   ]
  },
  {
   "cell_type": "code",
   "execution_count": 3,
   "metadata": {},
   "outputs": [],
   "source": [
    "start = datetime.datetime(2010, 5, 5)"
   ]
  },
  {
   "cell_type": "code",
   "execution_count": 4,
   "metadata": {},
   "outputs": [],
   "source": [
    "end = datetime.datetime(2016, 3, 29)"
   ]
  },
  {
   "cell_type": "code",
   "execution_count": 5,
   "metadata": {},
   "outputs": [],
   "source": [
    "data = dr.DataReader(\"AAPL\", \"yahoo\", start, end)"
   ]
  },
  {
   "cell_type": "code",
   "execution_count": 6,
   "metadata": {},
   "outputs": [],
   "source": [
    "%matplotlib inline"
   ]
  },
  {
   "cell_type": "code",
   "execution_count": 7,
   "metadata": {},
   "outputs": [
    {
     "data": {
      "text/plain": [
       "[<matplotlib.lines.Line2D at 0x8a92350>]"
      ]
     },
     "execution_count": 7,
     "metadata": {},
     "output_type": "execute_result"
    },
    {
     "data": {
      "image/png": "[encoded data removed]",
      "text/plain": [
       "<Figure size 432x288 with 1 Axes>"
      ]
     },
     "metadata": {},
     "output_type": "display_data"
    }
   ],
   "source": [
    "import matplotlib.pyplot as plt \n",
    "plt.plot(data.index, data['Adj Close'])"
   ]
  },
  {
   "cell_type": "code",
   "execution_count": 8,
   "metadata": {},
   "outputs": [],
   "source": [
    "data = data[['Adj Close']]"
   ]
  },
  {
   "cell_type": "code",
   "execution_count": 9,
   "metadata": {},
   "outputs": [],
   "source": [
    "data.columns = ['AAPL']"
   ]
  },
  {
   "cell_type": "code",
   "execution_count": 10,
   "metadata": {},
   "outputs": [],
   "source": [
    "data = data.tz_localize('UTC')"
   ]
  },
  {
   "cell_type": "code",
   "execution_count": 11,
   "metadata": {},
   "outputs": [
    {
     "data": {
      "text/html": [
       "<div>\n",
       "<style scoped>\n",
       "    .dataframe tbody tr th:only-of-type {\n",
       "        vertical-align: middle;\n",
       "    }\n",
       "\n",
       "    .dataframe tbody tr th {\n",
       "        vertical-align: top;\n",
       "    }\n",
       "\n",
       "    .dataframe thead th {\n",
       "        text-align: right;\n",
       "    }\n",
       "</style>\n",
       "<table border=\"1\" class=\"dataframe\">\n",
       "  <thead>\n",
       "    <tr style=\"text-align: right;\">\n",
       "      <th></th>\n",
       "      <th>AAPL</th>\n",
       "    </tr>\n",
       "    <tr>\n",
       "      <th>Date</th>\n",
       "      <th></th>\n",
       "    </tr>\n",
       "  </thead>\n",
       "  <tbody>\n",
       "    <tr>\n",
       "      <th>2010-05-04 00:00:00+00:00</th>\n",
       "      <td>32.077824</td>\n",
       "    </tr>\n",
       "    <tr>\n",
       "      <th>2010-05-05 00:00:00+00:00</th>\n",
       "      <td>31.744251</td>\n",
       "    </tr>\n",
       "    <tr>\n",
       "      <th>2010-05-06 00:00:00+00:00</th>\n",
       "      <td>30.536434</td>\n",
       "    </tr>\n",
       "    <tr>\n",
       "      <th>2010-05-07 00:00:00+00:00</th>\n",
       "      <td>29.248018</td>\n",
       "    </tr>\n",
       "    <tr>\n",
       "      <th>2010-05-10 00:00:00+00:00</th>\n",
       "      <td>31.496237</td>\n",
       "    </tr>\n",
       "  </tbody>\n",
       "</table>\n",
       "</div>"
      ],
      "text/plain": [
       "                                AAPL\n",
       "Date                                \n",
       "2010-05-04 00:00:00+00:00  32.077824\n",
       "2010-05-05 00:00:00+00:00  31.744251\n",
       "2010-05-06 00:00:00+00:00  30.536434\n",
       "2010-05-07 00:00:00+00:00  29.248018\n",
       "2010-05-10 00:00:00+00:00  31.496237"
      ]
     },
     "execution_count": 11,
     "metadata": {},
     "output_type": "execute_result"
    }
   ],
   "source": [
    "data.head()"
   ]
  },
  {
   "cell_type": "code",
   "execution_count": 12,
   "metadata": {},
   "outputs": [],
   "source": [
    "from zipline.api import order_target, record, symbol"
   ]
  },
  {
   "cell_type": "code",
   "execution_count": 13,
   "metadata": {},
   "outputs": [],
   "source": [
    "def initialize(context):\n",
    "    context.i = 0\n",
    "    context.sym = symbol('AAPL')\n",
    "    context.hold = False"
   ]
  },
  {
   "cell_type": "code",
   "execution_count": 14,
   "metadata": {},
   "outputs": [],
   "source": [
    "def handle_data(context, data):\n",
    "    context.i += 1\n",
    "    if context.i < 20:\n",
    "        return\n",
    "    \n",
    "    buy = False\n",
    "    sell = False\n",
    "    \n",
    "    ma5 = data.history(context.sym, 'price', 5, '1d').mean()\n",
    "    ma20 = data.history(context.sym, 'price', 20, '1d').mean()\n",
    "    \n",
    "    if ma5 > ma20 and context.hold == False:\n",
    "        order_target(context.sym, 100)\n",
    "        context.hold = True\n",
    "        buy = True\n",
    "    elif ma5< ma20 and context.hold == True:\n",
    "        order_target(context.sym, -100)\n",
    "        context.hold = False\n",
    "        sell = True\n",
    "        \n",
    "    record(AAPL=data.current(context.sym, \"price\"), ma5=ma5, ma20=ma20, buy=buy, sell=sell)"
   ]
  },
  {
   "cell_type": "code",
   "execution_count": 15,
   "metadata": {},
   "outputs": [],
   "source": [
    "from zipline.algorithm import TradingAlgorithm"
   ]
  },
  {
   "cell_type": "code",
   "execution_count": 16,
   "metadata": {},
   "outputs": [],
   "source": [
    "algo = TradingAlgorithm(initialize=initialize, handle_data=handle_data)"
   ]
  },
  {
   "cell_type": "code",
   "execution_count": 17,
   "metadata": {},
   "outputs": [
    {
     "name": "stderr",
     "output_type": "stream",
     "text": [
      "C:\\Anaconda3\\envs\\py35\\lib\\site-packages\\ipykernel_launcher.py:1: DeprecationWarning: \n",
      "Panel is deprecated and will be removed in a future version.\n",
      "The recommended way to represent these types of 3-dimensional data are with a MultiIndex on a DataFrame, via the Panel.to_frame() method\n",
      "Alternatively, you can use the xarray package http://xarray.pydata.org/en/stable/.\n",
      "Pandas provides a `.to_xarray()` method to help automate this conversion.\n",
      "\n",
      "  \"\"\"Entry point for launching an IPython kernel.\n",
      "C:\\Anaconda3\\envs\\py35\\lib\\site-packages\\empyrical\\stats.py:711: RuntimeWarning: invalid value encountered in true_divide\n",
      "  out=out,\n",
      "C:\\Anaconda3\\envs\\py35\\lib\\site-packages\\empyrical\\stats.py:797: RuntimeWarning: invalid value encountered in true_divide\n",
      "  np.divide(average_annual_return, annualized_downside_risk, out=out)\n"
     ]
    }
   ],
   "source": [
    "result = algo.run(data)"
   ]
  },
  {
   "cell_type": "code",
   "execution_count": 18,
   "metadata": {},
   "outputs": [
    {
     "data": {
      "text/plain": [
       "pandas.core.frame.DataFrame"
      ]
     },
     "execution_count": 18,
     "metadata": {},
     "output_type": "execute_result"
    }
   ],
   "source": [
    "type(result)"
   ]
  },
  {
   "cell_type": "code",
   "execution_count": 19,
   "metadata": {},
   "outputs": [
    {
     "name": "stdout",
     "output_type": "stream",
     "text": [
      "<class 'pandas.core.frame.DataFrame'>\n",
      "DatetimeIndex: 1486 entries, 2010-05-04 20:00:00+00:00 to 2016-03-29 20:00:00+00:00\n",
      "Data columns (total 42 columns):\n",
      "AAPL                       1467 non-null float64\n",
      "algo_volatility            1485 non-null float64\n",
      "algorithm_period_return    1486 non-null float64\n",
      "alpha                      1375 non-null float64\n",
      "benchmark_period_return    1486 non-null float64\n",
      "benchmark_volatility       1485 non-null float64\n",
      "beta                       1375 non-null float64\n",
      "buy                        1467 non-null object\n",
      "capital_used               1486 non-null float64\n",
      "ending_cash                1486 non-null float64\n",
      "ending_exposure            1486 non-null float64\n",
      "ending_value               1486 non-null float64\n",
      "excess_return              1486 non-null float64\n",
      "gross_leverage             1486 non-null float64\n",
      "long_exposure              1486 non-null float64\n",
      "long_value                 1486 non-null float64\n",
      "longs_count                1486 non-null int64\n",
      "ma20                       1467 non-null float64\n",
      "ma5                        1467 non-null float64\n",
      "max_drawdown               1486 non-null float64\n",
      "max_leverage               1486 non-null float64\n",
      "net_leverage               1486 non-null float64\n",
      "orders                     1486 non-null object\n",
      "period_close               1486 non-null datetime64[ns, UTC]\n",
      "period_label               1486 non-null object\n",
      "period_open                1486 non-null datetime64[ns, UTC]\n",
      "pnl                        1486 non-null float64\n",
      "portfolio_value            1486 non-null float64\n",
      "positions                  1486 non-null object\n",
      "returns                    1486 non-null float64\n",
      "sell                       1467 non-null object\n",
      "sharpe                     1466 non-null float64\n",
      "short_exposure             1486 non-null float64\n",
      "short_value                1486 non-null float64\n",
      "shorts_count               1486 non-null int64\n",
      "sortino                    1466 non-null float64\n",
      "starting_cash              1486 non-null float64\n",
      "starting_exposure          1486 non-null float64\n",
      "starting_value             1486 non-null float64\n",
      "trading_days               1486 non-null int64\n",
      "transactions               1486 non-null object\n",
      "treasury_period_return     1486 non-null float64\n",
      "dtypes: datetime64[ns, UTC](2), float64(31), int64(3), object(6)\n",
      "memory usage: 464.4+ KB\n"
     ]
    }
   ],
   "source": [
    "result.info()"
   ]
  },
  {
   "cell_type": "code",
   "execution_count": 20,
   "metadata": {},
   "outputs": [
    {
     "data": {
      "text/plain": [
       "<matplotlib.axes._subplots.AxesSubplot at 0x109b2050>"
      ]
     },
     "execution_count": 20,
     "metadata": {},
     "output_type": "execute_result"
    },
    {
     "data": {
      "image/png": "[encoded data removed]",
      "text/plain": [
       "<Figure size 432x288 with 1 Axes>"
      ]
     },
     "metadata": {},
     "output_type": "display_data"
    }
   ],
   "source": [
    "result[['ma5','ma20']].plot()"
   ]
  },
  {
   "cell_type": "code",
   "execution_count": 21,
   "metadata": {},
   "outputs": [
    {
     "data": {
      "text/plain": [
       "<matplotlib.axes._subplots.AxesSubplot at 0x109f0c10>"
      ]
     },
     "execution_count": 21,
     "metadata": {},
     "output_type": "execute_result"
    },
    {
     "data": {
      "image/png": "[encoded data removed]",
      "text/plain": [
       "<Figure size 432x288 with 1 Axes>"
      ]
     },
     "metadata": {},
     "output_type": "display_data"
    }
   ],
   "source": [
    "result['portfolio_value'].plot()"
   ]
  },
  {
   "cell_type": "code",
   "execution_count": 22,
   "metadata": {},
   "outputs": [
    {
     "data": {
      "text/plain": [
       "2016-03-22 20:00:00+00:00    98106.049622\n",
       "2016-03-23 20:00:00+00:00    98050.746430\n",
       "2016-03-24 20:00:00+00:00    98007.629670\n",
       "2016-03-28 20:00:00+00:00    97962.639130\n",
       "2016-03-29 20:00:00+00:00    98196.030701\n",
       "Name: portfolio_value, dtype: float64"
      ]
     },
     "execution_count": 22,
     "metadata": {},
     "output_type": "execute_result"
    }
   ],
   "source": [
    "result['portfolio_value'].tail()"
   ]
  },
  {
   "cell_type": "code",
   "execution_count": null,
   "metadata": {},
   "outputs": [],
   "source": []
  },
  {
   "cell_type": "code",
   "execution_count": null,
   "metadata": {},
   "outputs": [],
   "source": []
  },
  {
   "cell_type": "code",
   "execution_count": null,
   "metadata": {},
   "outputs": [],
   "source": []
  },
  {
   "cell_type": "code",
   "execution_count": null,
   "metadata": {},
   "outputs": [],
   "source": []
  },
  {
   "cell_type": "code",
   "execution_count": null,
   "metadata": {},
   "outputs": [],
   "source": []
  },
  {
   "cell_type": "code",
   "execution_count": null,
   "metadata": {},
   "outputs": [],
   "source": []
  },
  {
   "cell_type": "code",
   "execution_count": null,
   "metadata": {},
   "outputs": [],
   "source": []
  },
  {
   "cell_type": "code",
   "execution_count": null,
   "metadata": {},
   "outputs": [],
   "source": []
  }
 ],
 "metadata": {
  "kernelspec": {
   "display_name": "Python 3",
   "language": "python",
   "name": "python3"
  },
  "language_info": {
   "codemirror_mode": {
    "name": "ipython",
    "version": 3
   },
   "file_extension": ".py",
   "mimetype": "text/x-python",
   "name": "python",
   "nbconvert_exporter": "python",
   "pygments_lexer": "ipython3",
   "version": "3.5.5"
  }
 },
 "nbformat": 4,
 "nbformat_minor": 2
}
