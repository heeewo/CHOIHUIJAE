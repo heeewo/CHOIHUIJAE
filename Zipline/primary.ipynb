{
 "cells": [
  {
   "cell_type": "code",
   "execution_count": 1,
   "metadata": {},
   "outputs": [],
   "source": [
    "import pandas_datareader.data as dr"
   ]
  },
  {
   "cell_type": "code",
   "execution_count": 2,
   "metadata": {},
   "outputs": [],
   "source": [
    "import datetime"
   ]
  },
  {
   "cell_type": "code",
   "execution_count": 3,
   "metadata": {},
   "outputs": [],
   "source": [
    "import matplotlib.pyplot as plt"
   ]
  },
  {
   "cell_type": "code",
   "execution_count": 4,
   "metadata": {},
   "outputs": [],
   "source": [
    "start = datetime.datetime(2010, 1, 1)"
   ]
  },
  {
   "cell_type": "code",
   "execution_count": 5,
   "metadata": {},
   "outputs": [],
   "source": [
    "end = datetime.datetime(2016, 3, 19)"
   ]
  },
  {
   "cell_type": "code",
   "execution_count": 6,
   "metadata": {},
   "outputs": [],
   "source": [
    "data = dr.DataReader(\"AAPL\", \"yahoo\", start, end)"
   ]
  },
  {
   "cell_type": "code",
   "execution_count": 7,
   "metadata": {},
   "outputs": [
    {
     "data": {
      "text/plain": [
       "[<matplotlib.lines.Line2D at 0x8dbac30>]"
      ]
     },
     "execution_count": 7,
     "metadata": {},
     "output_type": "execute_result"
    },
    {
     "data": {
      "image/png": "[encoded data removed]",
      "text/plain": [
       "<Figure size 432x288 with 1 Axes>"
      ]
     },
     "metadata": {},
     "output_type": "display_data"
    }
   ],
   "source": [
    "plt.plot(data.index, data['Adj Close'])"
   ]
  },
  {
   "cell_type": "code",
   "execution_count": 8,
   "metadata": {},
   "outputs": [
    {
     "name": "stdout",
     "output_type": "stream",
     "text": [
      "Using matplotlib backend: Qt5Agg\n"
     ]
    }
   ],
   "source": [
    "%matplotlib"
   ]
  },
  {
   "cell_type": "code",
   "execution_count": 9,
   "metadata": {},
   "outputs": [
    {
     "data": {
      "text/plain": [
       "[<matplotlib.lines.Line2D at 0xcda0c10>]"
      ]
     },
     "execution_count": 9,
     "metadata": {},
     "output_type": "execute_result"
    }
   ],
   "source": [
    "plt.plot(data.index, data[\"Adj Close\"])"
   ]
  },
  {
   "cell_type": "code",
   "execution_count": 10,
   "metadata": {},
   "outputs": [],
   "source": [
    "def initialize(context):\n",
    "    pass"
   ]
  },
  {
   "cell_type": "code",
   "execution_count": 11,
   "metadata": {},
   "outputs": [],
   "source": [
    "from zipline.api import order, symbol"
   ]
  },
  {
   "cell_type": "code",
   "execution_count": 12,
   "metadata": {},
   "outputs": [],
   "source": [
    "def handle_data(context, data):\n",
    "    order(symbol('AAPL'), 1)"
   ]
  },
  {
   "cell_type": "code",
   "execution_count": 13,
   "metadata": {},
   "outputs": [
    {
     "data": {
      "text/html": [
       "<div>\n",
       "<style scoped>\n",
       "    .dataframe tbody tr th:only-of-type {\n",
       "        vertical-align: middle;\n",
       "    }\n",
       "\n",
       "    .dataframe tbody tr th {\n",
       "        vertical-align: top;\n",
       "    }\n",
       "\n",
       "    .dataframe thead th {\n",
       "        text-align: right;\n",
       "    }\n",
       "</style>\n",
       "<table border=\"1\" class=\"dataframe\">\n",
       "  <thead>\n",
       "    <tr style=\"text-align: right;\">\n",
       "      <th></th>\n",
       "      <th>High</th>\n",
       "      <th>Low</th>\n",
       "      <th>Open</th>\n",
       "      <th>Close</th>\n",
       "      <th>Volume</th>\n",
       "      <th>Adj Close</th>\n",
       "    </tr>\n",
       "    <tr>\n",
       "      <th>Date</th>\n",
       "      <th></th>\n",
       "      <th></th>\n",
       "      <th></th>\n",
       "      <th></th>\n",
       "      <th></th>\n",
       "      <th></th>\n",
       "    </tr>\n",
       "  </thead>\n",
       "  <tbody>\n",
       "    <tr>\n",
       "      <th>2009-12-31</th>\n",
       "      <td>30.478571</td>\n",
       "      <td>30.080000</td>\n",
       "      <td>30.447144</td>\n",
       "      <td>30.104286</td>\n",
       "      <td>88102700.0</td>\n",
       "      <td>26.131752</td>\n",
       "    </tr>\n",
       "    <tr>\n",
       "      <th>2010-01-04</th>\n",
       "      <td>30.642857</td>\n",
       "      <td>30.340000</td>\n",
       "      <td>30.490000</td>\n",
       "      <td>30.572857</td>\n",
       "      <td>123432400.0</td>\n",
       "      <td>26.538483</td>\n",
       "    </tr>\n",
       "    <tr>\n",
       "      <th>2010-01-05</th>\n",
       "      <td>30.798571</td>\n",
       "      <td>30.464285</td>\n",
       "      <td>30.657143</td>\n",
       "      <td>30.625713</td>\n",
       "      <td>150476200.0</td>\n",
       "      <td>26.584366</td>\n",
       "    </tr>\n",
       "    <tr>\n",
       "      <th>2010-01-06</th>\n",
       "      <td>30.747143</td>\n",
       "      <td>30.107143</td>\n",
       "      <td>30.625713</td>\n",
       "      <td>30.138571</td>\n",
       "      <td>138040000.0</td>\n",
       "      <td>26.161509</td>\n",
       "    </tr>\n",
       "    <tr>\n",
       "      <th>2010-01-07</th>\n",
       "      <td>30.285715</td>\n",
       "      <td>29.864286</td>\n",
       "      <td>30.250000</td>\n",
       "      <td>30.082857</td>\n",
       "      <td>119282800.0</td>\n",
       "      <td>26.113146</td>\n",
       "    </tr>\n",
       "  </tbody>\n",
       "</table>\n",
       "</div>"
      ],
      "text/plain": [
       "                 High        Low       Open      Close       Volume  Adj Close\n",
       "Date                                                                          \n",
       "2009-12-31  30.478571  30.080000  30.447144  30.104286   88102700.0  26.131752\n",
       "2010-01-04  30.642857  30.340000  30.490000  30.572857  123432400.0  26.538483\n",
       "2010-01-05  30.798571  30.464285  30.657143  30.625713  150476200.0  26.584366\n",
       "2010-01-06  30.747143  30.107143  30.625713  30.138571  138040000.0  26.161509\n",
       "2010-01-07  30.285715  29.864286  30.250000  30.082857  119282800.0  26.113146"
      ]
     },
     "execution_count": 13,
     "metadata": {},
     "output_type": "execute_result"
    }
   ],
   "source": [
    "data.head()"
   ]
  },
  {
   "cell_type": "code",
   "execution_count": 14,
   "metadata": {},
   "outputs": [],
   "source": [
    "data = data[['Adj Close']]"
   ]
  },
  {
   "cell_type": "code",
   "execution_count": 15,
   "metadata": {},
   "outputs": [
    {
     "data": {
      "text/html": [
       "<div>\n",
       "<style scoped>\n",
       "    .dataframe tbody tr th:only-of-type {\n",
       "        vertical-align: middle;\n",
       "    }\n",
       "\n",
       "    .dataframe tbody tr th {\n",
       "        vertical-align: top;\n",
       "    }\n",
       "\n",
       "    .dataframe thead th {\n",
       "        text-align: right;\n",
       "    }\n",
       "</style>\n",
       "<table border=\"1\" class=\"dataframe\">\n",
       "  <thead>\n",
       "    <tr style=\"text-align: right;\">\n",
       "      <th></th>\n",
       "      <th>Adj Close</th>\n",
       "    </tr>\n",
       "    <tr>\n",
       "      <th>Date</th>\n",
       "      <th></th>\n",
       "    </tr>\n",
       "  </thead>\n",
       "  <tbody>\n",
       "    <tr>\n",
       "      <th>2009-12-31</th>\n",
       "      <td>26.131752</td>\n",
       "    </tr>\n",
       "    <tr>\n",
       "      <th>2010-01-04</th>\n",
       "      <td>26.538483</td>\n",
       "    </tr>\n",
       "    <tr>\n",
       "      <th>2010-01-05</th>\n",
       "      <td>26.584366</td>\n",
       "    </tr>\n",
       "    <tr>\n",
       "      <th>2010-01-06</th>\n",
       "      <td>26.161509</td>\n",
       "    </tr>\n",
       "    <tr>\n",
       "      <th>2010-01-07</th>\n",
       "      <td>26.113146</td>\n",
       "    </tr>\n",
       "  </tbody>\n",
       "</table>\n",
       "</div>"
      ],
      "text/plain": [
       "            Adj Close\n",
       "Date                 \n",
       "2009-12-31  26.131752\n",
       "2010-01-04  26.538483\n",
       "2010-01-05  26.584366\n",
       "2010-01-06  26.161509\n",
       "2010-01-07  26.113146"
      ]
     },
     "execution_count": 15,
     "metadata": {},
     "output_type": "execute_result"
    }
   ],
   "source": [
    "data.head()"
   ]
  },
  {
   "cell_type": "code",
   "execution_count": 16,
   "metadata": {},
   "outputs": [],
   "source": [
    "data.columns = [\"AAPL\"]"
   ]
  },
  {
   "cell_type": "code",
   "execution_count": 17,
   "metadata": {},
   "outputs": [
    {
     "data": {
      "text/html": [
       "<div>\n",
       "<style scoped>\n",
       "    .dataframe tbody tr th:only-of-type {\n",
       "        vertical-align: middle;\n",
       "    }\n",
       "\n",
       "    .dataframe tbody tr th {\n",
       "        vertical-align: top;\n",
       "    }\n",
       "\n",
       "    .dataframe thead th {\n",
       "        text-align: right;\n",
       "    }\n",
       "</style>\n",
       "<table border=\"1\" class=\"dataframe\">\n",
       "  <thead>\n",
       "    <tr style=\"text-align: right;\">\n",
       "      <th></th>\n",
       "      <th>AAPL</th>\n",
       "    </tr>\n",
       "    <tr>\n",
       "      <th>Date</th>\n",
       "      <th></th>\n",
       "    </tr>\n",
       "  </thead>\n",
       "  <tbody>\n",
       "    <tr>\n",
       "      <th>2009-12-31</th>\n",
       "      <td>26.131752</td>\n",
       "    </tr>\n",
       "    <tr>\n",
       "      <th>2010-01-04</th>\n",
       "      <td>26.538483</td>\n",
       "    </tr>\n",
       "    <tr>\n",
       "      <th>2010-01-05</th>\n",
       "      <td>26.584366</td>\n",
       "    </tr>\n",
       "    <tr>\n",
       "      <th>2010-01-06</th>\n",
       "      <td>26.161509</td>\n",
       "    </tr>\n",
       "    <tr>\n",
       "      <th>2010-01-07</th>\n",
       "      <td>26.113146</td>\n",
       "    </tr>\n",
       "  </tbody>\n",
       "</table>\n",
       "</div>"
      ],
      "text/plain": [
       "                 AAPL\n",
       "Date                 \n",
       "2009-12-31  26.131752\n",
       "2010-01-04  26.538483\n",
       "2010-01-05  26.584366\n",
       "2010-01-06  26.161509\n",
       "2010-01-07  26.113146"
      ]
     },
     "execution_count": 17,
     "metadata": {},
     "output_type": "execute_result"
    }
   ],
   "source": [
    "data.head()"
   ]
  },
  {
   "cell_type": "code",
   "execution_count": 18,
   "metadata": {},
   "outputs": [],
   "source": [
    "data = data.tz_localize(\"UTC\")"
   ]
  },
  {
   "cell_type": "code",
   "execution_count": 19,
   "metadata": {},
   "outputs": [
    {
     "data": {
      "text/html": [
       "<div>\n",
       "<style scoped>\n",
       "    .dataframe tbody tr th:only-of-type {\n",
       "        vertical-align: middle;\n",
       "    }\n",
       "\n",
       "    .dataframe tbody tr th {\n",
       "        vertical-align: top;\n",
       "    }\n",
       "\n",
       "    .dataframe thead th {\n",
       "        text-align: right;\n",
       "    }\n",
       "</style>\n",
       "<table border=\"1\" class=\"dataframe\">\n",
       "  <thead>\n",
       "    <tr style=\"text-align: right;\">\n",
       "      <th></th>\n",
       "      <th>AAPL</th>\n",
       "    </tr>\n",
       "    <tr>\n",
       "      <th>Date</th>\n",
       "      <th></th>\n",
       "    </tr>\n",
       "  </thead>\n",
       "  <tbody>\n",
       "    <tr>\n",
       "      <th>2009-12-31 00:00:00+00:00</th>\n",
       "      <td>26.131752</td>\n",
       "    </tr>\n",
       "    <tr>\n",
       "      <th>2010-01-04 00:00:00+00:00</th>\n",
       "      <td>26.538483</td>\n",
       "    </tr>\n",
       "    <tr>\n",
       "      <th>2010-01-05 00:00:00+00:00</th>\n",
       "      <td>26.584366</td>\n",
       "    </tr>\n",
       "    <tr>\n",
       "      <th>2010-01-06 00:00:00+00:00</th>\n",
       "      <td>26.161509</td>\n",
       "    </tr>\n",
       "    <tr>\n",
       "      <th>2010-01-07 00:00:00+00:00</th>\n",
       "      <td>26.113146</td>\n",
       "    </tr>\n",
       "  </tbody>\n",
       "</table>\n",
       "</div>"
      ],
      "text/plain": [
       "                                AAPL\n",
       "Date                                \n",
       "2009-12-31 00:00:00+00:00  26.131752\n",
       "2010-01-04 00:00:00+00:00  26.538483\n",
       "2010-01-05 00:00:00+00:00  26.584366\n",
       "2010-01-06 00:00:00+00:00  26.161509\n",
       "2010-01-07 00:00:00+00:00  26.113146"
      ]
     },
     "execution_count": 19,
     "metadata": {},
     "output_type": "execute_result"
    }
   ],
   "source": [
    "data.head()"
   ]
  },
  {
   "cell_type": "code",
   "execution_count": 20,
   "metadata": {},
   "outputs": [],
   "source": [
    "from zipline.algorithm import TradingAlgorithm"
   ]
  },
  {
   "cell_type": "code",
   "execution_count": 22,
   "metadata": {},
   "outputs": [],
   "source": [
    "algo = TradingAlgorithm(initialize=initialize, handle_data=handle_data)"
   ]
  },
  {
   "cell_type": "code",
   "execution_count": 23,
   "metadata": {},
   "outputs": [
    {
     "name": "stderr",
     "output_type": "stream",
     "text": [
      "C:\\Anaconda3\\envs\\py35\\lib\\site-packages\\ipykernel_launcher.py:1: DeprecationWarning: \n",
      "Panel is deprecated and will be removed in a future version.\n",
      "The recommended way to represent these types of 3-dimensional data are with a MultiIndex on a DataFrame, via the Panel.to_frame() method\n",
      "Alternatively, you can use the xarray package http://xarray.pydata.org/en/stable/.\n",
      "Pandas provides a `.to_xarray()` method to help automate this conversion.\n",
      "\n",
      "  \"\"\"Entry point for launching an IPython kernel.\n"
     ]
    }
   ],
   "source": [
    "result = algo.run(data)"
   ]
  },
  {
   "cell_type": "code",
   "execution_count": 24,
   "metadata": {},
   "outputs": [
    {
     "data": {
      "text/html": [
       "<div>\n",
       "<style scoped>\n",
       "    .dataframe tbody tr th:only-of-type {\n",
       "        vertical-align: middle;\n",
       "    }\n",
       "\n",
       "    .dataframe tbody tr th {\n",
       "        vertical-align: top;\n",
       "    }\n",
       "\n",
       "    .dataframe thead th {\n",
       "        text-align: right;\n",
       "    }\n",
       "</style>\n",
       "<table border=\"1\" class=\"dataframe\">\n",
       "  <thead>\n",
       "    <tr style=\"text-align: right;\">\n",
       "      <th></th>\n",
       "      <th>algo_volatility</th>\n",
       "      <th>algorithm_period_return</th>\n",
       "      <th>alpha</th>\n",
       "      <th>benchmark_period_return</th>\n",
       "      <th>benchmark_volatility</th>\n",
       "      <th>beta</th>\n",
       "      <th>capital_used</th>\n",
       "      <th>ending_cash</th>\n",
       "      <th>ending_exposure</th>\n",
       "      <th>ending_value</th>\n",
       "      <th>...</th>\n",
       "      <th>short_exposure</th>\n",
       "      <th>short_value</th>\n",
       "      <th>shorts_count</th>\n",
       "      <th>sortino</th>\n",
       "      <th>starting_cash</th>\n",
       "      <th>starting_exposure</th>\n",
       "      <th>starting_value</th>\n",
       "      <th>trading_days</th>\n",
       "      <th>transactions</th>\n",
       "      <th>treasury_period_return</th>\n",
       "    </tr>\n",
       "  </thead>\n",
       "  <tbody>\n",
       "    <tr>\n",
       "      <th>2009-12-31 21:00:00+00:00</th>\n",
       "      <td>NaN</td>\n",
       "      <td>0.000000e+00</td>\n",
       "      <td>NaN</td>\n",
       "      <td>-0.016222</td>\n",
       "      <td>NaN</td>\n",
       "      <td>NaN</td>\n",
       "      <td>0.000000</td>\n",
       "      <td>100000.000000</td>\n",
       "      <td>0.000000</td>\n",
       "      <td>0.000000</td>\n",
       "      <td>...</td>\n",
       "      <td>0.0</td>\n",
       "      <td>0.0</td>\n",
       "      <td>0</td>\n",
       "      <td>NaN</td>\n",
       "      <td>100000.000000</td>\n",
       "      <td>0.000000</td>\n",
       "      <td>0.000000</td>\n",
       "      <td>1</td>\n",
       "      <td>[]</td>\n",
       "      <td>0.0</td>\n",
       "    </tr>\n",
       "    <tr>\n",
       "      <th>2010-01-04 21:00:00+00:00</th>\n",
       "      <td>0.000002</td>\n",
       "      <td>-1.426924e-07</td>\n",
       "      <td>NaN</td>\n",
       "      <td>-0.032181</td>\n",
       "      <td>0.0</td>\n",
       "      <td>NaN</td>\n",
       "      <td>-26.552752</td>\n",
       "      <td>99973.447248</td>\n",
       "      <td>26.538483</td>\n",
       "      <td>26.538483</td>\n",
       "      <td>...</td>\n",
       "      <td>0.0</td>\n",
       "      <td>0.0</td>\n",
       "      <td>0</td>\n",
       "      <td>-11.224972</td>\n",
       "      <td>100000.000000</td>\n",
       "      <td>0.000000</td>\n",
       "      <td>0.000000</td>\n",
       "      <td>2</td>\n",
       "      <td>[{'price': 26.55175190734863, 'amount': 1, 'dt...</td>\n",
       "      <td>0.0</td>\n",
       "    </tr>\n",
       "    <tr>\n",
       "      <th>2010-01-05 21:00:00+00:00</th>\n",
       "      <td>0.000004</td>\n",
       "      <td>1.732175e-07</td>\n",
       "      <td>NaN</td>\n",
       "      <td>-0.047881</td>\n",
       "      <td>0.0</td>\n",
       "      <td>NaN</td>\n",
       "      <td>-26.598658</td>\n",
       "      <td>99946.848590</td>\n",
       "      <td>53.168732</td>\n",
       "      <td>53.168732</td>\n",
       "      <td>...</td>\n",
       "      <td>0.0</td>\n",
       "      <td>0.0</td>\n",
       "      <td>0</td>\n",
       "      <td>11.125787</td>\n",
       "      <td>99973.447248</td>\n",
       "      <td>26.538483</td>\n",
       "      <td>26.538483</td>\n",
       "      <td>3</td>\n",
       "      <td>[{'price': 26.597658027648926, 'amount': 1, 'd...</td>\n",
       "      <td>0.0</td>\n",
       "    </tr>\n",
       "    <tr>\n",
       "      <th>2010-01-06 21:00:00+00:00</th>\n",
       "      <td>0.000069</td>\n",
       "      <td>-8.424736e-06</td>\n",
       "      <td>NaN</td>\n",
       "      <td>-0.063326</td>\n",
       "      <td>0.0</td>\n",
       "      <td>NaN</td>\n",
       "      <td>-26.175589</td>\n",
       "      <td>99920.673001</td>\n",
       "      <td>78.484526</td>\n",
       "      <td>78.484526</td>\n",
       "      <td>...</td>\n",
       "      <td>0.0</td>\n",
       "      <td>0.0</td>\n",
       "      <td>0</td>\n",
       "      <td>-7.776276</td>\n",
       "      <td>99946.848590</td>\n",
       "      <td>53.168732</td>\n",
       "      <td>53.168732</td>\n",
       "      <td>4</td>\n",
       "      <td>[{'price': 26.174589314460754, 'amount': 1, 'd...</td>\n",
       "      <td>0.0</td>\n",
       "    </tr>\n",
       "    <tr>\n",
       "      <th>2010-01-07 21:00:00+00:00</th>\n",
       "      <td>0.000060</td>\n",
       "      <td>-1.001618e-05</td>\n",
       "      <td>NaN</td>\n",
       "      <td>-0.078520</td>\n",
       "      <td>0.0</td>\n",
       "      <td>NaN</td>\n",
       "      <td>-26.127202</td>\n",
       "      <td>99894.545798</td>\n",
       "      <td>104.452583</td>\n",
       "      <td>104.452583</td>\n",
       "      <td>...</td>\n",
       "      <td>0.0</td>\n",
       "      <td>0.0</td>\n",
       "      <td>0</td>\n",
       "      <td>-8.131115</td>\n",
       "      <td>99920.673001</td>\n",
       "      <td>78.484526</td>\n",
       "      <td>78.484526</td>\n",
       "      <td>5</td>\n",
       "      <td>[{'price': 26.126202401161194, 'amount': 1, 'd...</td>\n",
       "      <td>0.0</td>\n",
       "    </tr>\n",
       "  </tbody>\n",
       "</table>\n",
       "<p>5 rows × 37 columns</p>\n",
       "</div>"
      ],
      "text/plain": [
       "                           algo_volatility  algorithm_period_return  alpha  \\\n",
       "2009-12-31 21:00:00+00:00              NaN             0.000000e+00    NaN   \n",
       "2010-01-04 21:00:00+00:00         0.000002            -1.426924e-07    NaN   \n",
       "2010-01-05 21:00:00+00:00         0.000004             1.732175e-07    NaN   \n",
       "2010-01-06 21:00:00+00:00         0.000069            -8.424736e-06    NaN   \n",
       "2010-01-07 21:00:00+00:00         0.000060            -1.001618e-05    NaN   \n",
       "\n",
       "                           benchmark_period_return  benchmark_volatility  \\\n",
       "2009-12-31 21:00:00+00:00                -0.016222                   NaN   \n",
       "2010-01-04 21:00:00+00:00                -0.032181                   0.0   \n",
       "2010-01-05 21:00:00+00:00                -0.047881                   0.0   \n",
       "2010-01-06 21:00:00+00:00                -0.063326                   0.0   \n",
       "2010-01-07 21:00:00+00:00                -0.078520                   0.0   \n",
       "\n",
       "                           beta  capital_used    ending_cash  ending_exposure  \\\n",
       "2009-12-31 21:00:00+00:00   NaN      0.000000  100000.000000         0.000000   \n",
       "2010-01-04 21:00:00+00:00   NaN    -26.552752   99973.447248        26.538483   \n",
       "2010-01-05 21:00:00+00:00   NaN    -26.598658   99946.848590        53.168732   \n",
       "2010-01-06 21:00:00+00:00   NaN    -26.175589   99920.673001        78.484526   \n",
       "2010-01-07 21:00:00+00:00   NaN    -26.127202   99894.545798       104.452583   \n",
       "\n",
       "                           ending_value          ...            \\\n",
       "2009-12-31 21:00:00+00:00      0.000000          ...             \n",
       "2010-01-04 21:00:00+00:00     26.538483          ...             \n",
       "2010-01-05 21:00:00+00:00     53.168732          ...             \n",
       "2010-01-06 21:00:00+00:00     78.484526          ...             \n",
       "2010-01-07 21:00:00+00:00    104.452583          ...             \n",
       "\n",
       "                           short_exposure  short_value  shorts_count  \\\n",
       "2009-12-31 21:00:00+00:00             0.0          0.0             0   \n",
       "2010-01-04 21:00:00+00:00             0.0          0.0             0   \n",
       "2010-01-05 21:00:00+00:00             0.0          0.0             0   \n",
       "2010-01-06 21:00:00+00:00             0.0          0.0             0   \n",
       "2010-01-07 21:00:00+00:00             0.0          0.0             0   \n",
       "\n",
       "                             sortino  starting_cash  starting_exposure  \\\n",
       "2009-12-31 21:00:00+00:00        NaN  100000.000000           0.000000   \n",
       "2010-01-04 21:00:00+00:00 -11.224972  100000.000000           0.000000   \n",
       "2010-01-05 21:00:00+00:00  11.125787   99973.447248          26.538483   \n",
       "2010-01-06 21:00:00+00:00  -7.776276   99946.848590          53.168732   \n",
       "2010-01-07 21:00:00+00:00  -8.131115   99920.673001          78.484526   \n",
       "\n",
       "                           starting_value  trading_days  \\\n",
       "2009-12-31 21:00:00+00:00        0.000000             1   \n",
       "2010-01-04 21:00:00+00:00        0.000000             2   \n",
       "2010-01-05 21:00:00+00:00       26.538483             3   \n",
       "2010-01-06 21:00:00+00:00       53.168732             4   \n",
       "2010-01-07 21:00:00+00:00       78.484526             5   \n",
       "\n",
       "                                                                transactions  \\\n",
       "2009-12-31 21:00:00+00:00                                                 []   \n",
       "2010-01-04 21:00:00+00:00  [{'price': 26.55175190734863, 'amount': 1, 'dt...   \n",
       "2010-01-05 21:00:00+00:00  [{'price': 26.597658027648926, 'amount': 1, 'd...   \n",
       "2010-01-06 21:00:00+00:00  [{'price': 26.174589314460754, 'amount': 1, 'd...   \n",
       "2010-01-07 21:00:00+00:00  [{'price': 26.126202401161194, 'amount': 1, 'd...   \n",
       "\n",
       "                          treasury_period_return  \n",
       "2009-12-31 21:00:00+00:00                    0.0  \n",
       "2010-01-04 21:00:00+00:00                    0.0  \n",
       "2010-01-05 21:00:00+00:00                    0.0  \n",
       "2010-01-06 21:00:00+00:00                    0.0  \n",
       "2010-01-07 21:00:00+00:00                    0.0  \n",
       "\n",
       "[5 rows x 37 columns]"
      ]
     },
     "execution_count": 24,
     "metadata": {},
     "output_type": "execute_result"
    }
   ],
   "source": [
    "result.head()"
   ]
  },
  {
   "cell_type": "code",
   "execution_count": 25,
   "metadata": {},
   "outputs": [
    {
     "data": {
      "text/plain": [
       "2009-12-31 21:00:00+00:00    100000.000000\n",
       "2010-01-04 21:00:00+00:00     99999.985731\n",
       "2010-01-05 21:00:00+00:00    100000.017322\n",
       "2010-01-06 21:00:00+00:00     99999.157526\n",
       "2010-01-07 21:00:00+00:00     99998.998382\n",
       "2010-01-08 21:00:00+00:00     99999.678666\n",
       "2010-01-11 21:00:00+00:00     99998.505199\n",
       "2010-01-12 21:00:00+00:00     99996.713057\n",
       "2010-01-13 21:00:00+00:00     99999.242365\n",
       "2010-01-14 21:00:00+00:00     99998.018144\n",
       "2010-01-15 21:00:00+00:00     99994.098136\n",
       "2010-01-19 21:00:00+00:00    100005.380723\n",
       "2010-01-20 21:00:00+00:00    100000.851541\n",
       "2010-01-21 21:00:00+00:00     99995.391236\n",
       "2010-01-22 21:00:00+00:00     99978.741413\n",
       "2010-01-25 21:00:00+00:00     99987.963841\n",
       "2010-01-26 21:00:00+00:00     99993.288484\n",
       "2010-01-27 21:00:00+00:00     99997.123716\n",
       "2010-01-28 21:00:00+00:00     99979.001848\n",
       "2010-01-29 21:00:00+00:00     99962.851019\n",
       "2010-02-01 21:00:00+00:00     99969.128528\n",
       "2010-02-02 21:00:00+00:00     99971.917852\n",
       "2010-02-03 21:00:00+00:00     99980.680320\n",
       "2010-02-04 21:00:00+00:00     99961.079663\n",
       "2010-02-05 21:00:00+00:00     99970.792262\n",
       "2010-02-08 21:00:00+00:00     99966.791143\n",
       "2010-02-09 21:00:00+00:00     99973.195301\n",
       "2010-02-10 21:00:00+00:00     99969.732499\n",
       "2010-02-11 21:00:00+00:00     99981.604861\n",
       "2010-02-12 21:00:00+00:00     99987.528982\n",
       "                                 ...      \n",
       "2016-02-05 21:00:00+00:00    131334.430777\n",
       "2016-02-08 21:00:00+00:00    132757.880886\n",
       "2016-02-09 21:00:00+00:00    132729.049434\n",
       "2016-02-10 21:00:00+00:00    131692.387066\n",
       "2016-02-11 21:00:00+00:00    130871.155530\n",
       "2016-02-12 21:00:00+00:00    131289.181479\n",
       "2016-02-16 21:00:00+00:00    135111.848590\n",
       "2016-02-17 21:00:00+00:00    137248.159180\n",
       "2016-02-18 21:00:00+00:00    134561.497512\n",
       "2016-02-19 21:00:00+00:00    134243.468118\n",
       "2016-02-22 21:00:00+00:00    135458.284645\n",
       "2016-02-23 21:00:00+00:00    132288.817393\n",
       "2016-02-24 21:00:00+00:00    134330.693390\n",
       "2016-02-25 21:00:00+00:00    135287.059976\n",
       "2016-02-26 21:00:00+00:00    135504.525025\n",
       "2016-02-29 21:00:00+00:00    135185.269848\n",
       "2016-03-01 21:00:00+00:00    140760.543938\n",
       "2016-03-02 21:00:00+00:00    141080.116998\n",
       "2016-03-03 21:00:00+00:00    142170.414139\n",
       "2016-03-04 21:00:00+00:00    144366.967280\n",
       "2016-03-07 21:00:00+00:00    142707.495762\n",
       "2016-03-08 21:00:00+00:00    141483.900050\n",
       "2016-03-09 21:00:00+00:00    141615.016821\n",
       "2016-03-10 21:00:00+00:00    141687.905906\n",
       "2016-03-11 21:00:00+00:00    143278.593248\n",
       "2016-03-14 20:00:00+00:00    143658.249646\n",
       "2016-03-15 20:00:00+00:00    146668.426051\n",
       "2016-03-16 20:00:00+00:00    148700.867147\n",
       "2016-03-17 20:00:00+00:00    148452.051243\n",
       "2016-03-18 20:00:00+00:00    148627.694618\n",
       "Name: portfolio_value, Length: 1564, dtype: float64"
      ]
     },
     "execution_count": 25,
     "metadata": {},
     "output_type": "execute_result"
    }
   ],
   "source": [
    "result.portfolio_value"
   ]
  },
  {
   "cell_type": "code",
   "execution_count": null,
   "metadata": {},
   "outputs": [],
   "source": []
  }
 ],
 "metadata": {
  "kernelspec": {
   "display_name": "Python 3",
   "language": "python",
   "name": "python3"
  },
  "language_info": {
   "codemirror_mode": {
    "name": "ipython",
    "version": 3
   },
   "file_extension": ".py",
   "mimetype": "text/x-python",
   "name": "python",
   "nbconvert_exporter": "python",
   "pygments_lexer": "ipython3",
   "version": "3.5.5"
  }
 },
 "nbformat": 4,
 "nbformat_minor": 2
}
