{
 "cells": [
  {
   "cell_type": "code",
   "execution_count": 2,
   "metadata": {},
   "outputs": [],
   "source": [
    "import pandas_datareader.data as dr"
   ]
  },
  {
   "cell_type": "code",
   "execution_count": 3,
   "metadata": {},
   "outputs": [],
   "source": [
    "import datetime"
   ]
  },
  {
   "cell_type": "code",
   "execution_count": 4,
   "metadata": {},
   "outputs": [],
   "source": [
    "start = datetime.datetime(2020, 2, 19)"
   ]
  },
  {
   "cell_type": "code",
   "execution_count": 5,
   "metadata": {},
   "outputs": [],
   "source": [
    "end = datetime.datetime(2020, 3, 4)"
   ]
  },
  {
   "cell_type": "code",
   "execution_count": 7,
   "metadata": {},
   "outputs": [],
   "source": [
    "gs = dr.DataReader(\"078930.KS\", \"yahoo\", start, end)"
   ]
  },
  {
   "cell_type": "code",
   "execution_count": 8,
   "metadata": {},
   "outputs": [
    {
     "data": {
      "text/html": [
       "<div>\n",
       "<style scoped>\n",
       "    .dataframe tbody tr th:only-of-type {\n",
       "        vertical-align: middle;\n",
       "    }\n",
       "\n",
       "    .dataframe tbody tr th {\n",
       "        vertical-align: top;\n",
       "    }\n",
       "\n",
       "    .dataframe thead th {\n",
       "        text-align: right;\n",
       "    }\n",
       "</style>\n",
       "<table border=\"1\" class=\"dataframe\">\n",
       "  <thead>\n",
       "    <tr style=\"text-align: right;\">\n",
       "      <th></th>\n",
       "      <th>High</th>\n",
       "      <th>Low</th>\n",
       "      <th>Open</th>\n",
       "      <th>Close</th>\n",
       "      <th>Volume</th>\n",
       "      <th>Adj Close</th>\n",
       "    </tr>\n",
       "    <tr>\n",
       "      <th>Date</th>\n",
       "      <th></th>\n",
       "      <th></th>\n",
       "      <th></th>\n",
       "      <th></th>\n",
       "      <th></th>\n",
       "      <th></th>\n",
       "    </tr>\n",
       "  </thead>\n",
       "  <tbody>\n",
       "    <tr>\n",
       "      <td>2020-02-19</td>\n",
       "      <td>46100</td>\n",
       "      <td>45200</td>\n",
       "      <td>46050</td>\n",
       "      <td>45300</td>\n",
       "      <td>87714</td>\n",
       "      <td>45300</td>\n",
       "    </tr>\n",
       "    <tr>\n",
       "      <td>2020-02-20</td>\n",
       "      <td>45500</td>\n",
       "      <td>44900</td>\n",
       "      <td>45200</td>\n",
       "      <td>45150</td>\n",
       "      <td>124948</td>\n",
       "      <td>45150</td>\n",
       "    </tr>\n",
       "    <tr>\n",
       "      <td>2020-02-21</td>\n",
       "      <td>44650</td>\n",
       "      <td>43900</td>\n",
       "      <td>44650</td>\n",
       "      <td>43950</td>\n",
       "      <td>193560</td>\n",
       "      <td>43950</td>\n",
       "    </tr>\n",
       "    <tr>\n",
       "      <td>2020-02-24</td>\n",
       "      <td>43600</td>\n",
       "      <td>41500</td>\n",
       "      <td>43550</td>\n",
       "      <td>41600</td>\n",
       "      <td>229758</td>\n",
       "      <td>41600</td>\n",
       "    </tr>\n",
       "    <tr>\n",
       "      <td>2020-02-25</td>\n",
       "      <td>41750</td>\n",
       "      <td>40750</td>\n",
       "      <td>41100</td>\n",
       "      <td>41650</td>\n",
       "      <td>198750</td>\n",
       "      <td>41650</td>\n",
       "    </tr>\n",
       "    <tr>\n",
       "      <td>2020-02-26</td>\n",
       "      <td>42000</td>\n",
       "      <td>41050</td>\n",
       "      <td>41400</td>\n",
       "      <td>41950</td>\n",
       "      <td>252165</td>\n",
       "      <td>41950</td>\n",
       "    </tr>\n",
       "    <tr>\n",
       "      <td>2020-02-27</td>\n",
       "      <td>42000</td>\n",
       "      <td>41150</td>\n",
       "      <td>41500</td>\n",
       "      <td>41950</td>\n",
       "      <td>210228</td>\n",
       "      <td>41950</td>\n",
       "    </tr>\n",
       "    <tr>\n",
       "      <td>2020-02-28</td>\n",
       "      <td>41600</td>\n",
       "      <td>40950</td>\n",
       "      <td>41600</td>\n",
       "      <td>41250</td>\n",
       "      <td>294536</td>\n",
       "      <td>41250</td>\n",
       "    </tr>\n",
       "    <tr>\n",
       "      <td>2020-03-02</td>\n",
       "      <td>41500</td>\n",
       "      <td>40400</td>\n",
       "      <td>41100</td>\n",
       "      <td>40800</td>\n",
       "      <td>187080</td>\n",
       "      <td>40800</td>\n",
       "    </tr>\n",
       "    <tr>\n",
       "      <td>2020-03-03</td>\n",
       "      <td>41650</td>\n",
       "      <td>40450</td>\n",
       "      <td>41000</td>\n",
       "      <td>40750</td>\n",
       "      <td>215622</td>\n",
       "      <td>40750</td>\n",
       "    </tr>\n",
       "    <tr>\n",
       "      <td>2020-03-04</td>\n",
       "      <td>41100</td>\n",
       "      <td>40550</td>\n",
       "      <td>40750</td>\n",
       "      <td>40650</td>\n",
       "      <td>200295</td>\n",
       "      <td>40650</td>\n",
       "    </tr>\n",
       "    <tr>\n",
       "      <td>2020-03-05</td>\n",
       "      <td>41300</td>\n",
       "      <td>40500</td>\n",
       "      <td>40650</td>\n",
       "      <td>41300</td>\n",
       "      <td>254575</td>\n",
       "      <td>41300</td>\n",
       "    </tr>\n",
       "  </tbody>\n",
       "</table>\n",
       "</div>"
      ],
      "text/plain": [
       "             High    Low   Open  Close  Volume  Adj Close\n",
       "Date                                                     \n",
       "2020-02-19  46100  45200  46050  45300   87714      45300\n",
       "2020-02-20  45500  44900  45200  45150  124948      45150\n",
       "2020-02-21  44650  43900  44650  43950  193560      43950\n",
       "2020-02-24  43600  41500  43550  41600  229758      41600\n",
       "2020-02-25  41750  40750  41100  41650  198750      41650\n",
       "2020-02-26  42000  41050  41400  41950  252165      41950\n",
       "2020-02-27  42000  41150  41500  41950  210228      41950\n",
       "2020-02-28  41600  40950  41600  41250  294536      41250\n",
       "2020-03-02  41500  40400  41100  40800  187080      40800\n",
       "2020-03-03  41650  40450  41000  40750  215622      40750\n",
       "2020-03-04  41100  40550  40750  40650  200295      40650\n",
       "2020-03-05  41300  40500  40650  41300  254575      41300"
      ]
     },
     "execution_count": 8,
     "metadata": {},
     "output_type": "execute_result"
    }
   ],
   "source": [
    "gs"
   ]
  },
  {
   "cell_type": "code",
   "execution_count": 9,
   "metadata": {},
   "outputs": [
    {
     "data": {
      "text/plain": [
       "pandas.core.frame.DataFrame"
      ]
     },
     "execution_count": 9,
     "metadata": {},
     "output_type": "execute_result"
    }
   ],
   "source": [
    "type(gs)"
   ]
  },
  {
   "cell_type": "code",
   "execution_count": 11,
   "metadata": {},
   "outputs": [
    {
     "name": "stdout",
     "output_type": "stream",
     "text": [
      "<class 'pandas.core.frame.DataFrame'>\n",
      "DatetimeIndex: 12 entries, 2020-02-19 to 2020-03-05\n",
      "Data columns (total 6 columns):\n",
      "High         12 non-null int64\n",
      "Low          12 non-null int64\n",
      "Open         12 non-null int64\n",
      "Close        12 non-null int64\n",
      "Volume       12 non-null int64\n",
      "Adj Close    12 non-null int64\n",
      "dtypes: int64(6)\n",
      "memory usage: 672.0 bytes\n"
     ]
    }
   ],
   "source": [
    "gs.info()"
   ]
  },
  {
   "cell_type": "code",
   "execution_count": 12,
   "metadata": {},
   "outputs": [],
   "source": [
    "gs = dr.DataReader(\"078930.KS\", \"yahoo\")"
   ]
  },
  {
   "cell_type": "code",
   "execution_count": 13,
   "metadata": {},
   "outputs": [
    {
     "name": "stdout",
     "output_type": "stream",
     "text": [
      "<class 'pandas.core.frame.DataFrame'>\n",
      "DatetimeIndex: 1223 entries, 2015-03-09 to 2020-03-06\n",
      "Data columns (total 6 columns):\n",
      "High         1223 non-null float64\n",
      "Low          1223 non-null float64\n",
      "Open         1223 non-null float64\n",
      "Close        1223 non-null float64\n",
      "Volume       1223 non-null float64\n",
      "Adj Close    1223 non-null float64\n",
      "dtypes: float64(6)\n",
      "memory usage: 66.9 KB\n"
     ]
    }
   ],
   "source": [
    "gs.info()"
   ]
  },
  {
   "cell_type": "code",
   "execution_count": 14,
   "metadata": {},
   "outputs": [],
   "source": [
    "import matplotlib.pyplot as plt"
   ]
  },
  {
   "cell_type": "code",
   "execution_count": 15,
   "metadata": {},
   "outputs": [
    {
     "name": "stderr",
     "output_type": "stream",
     "text": [
      "C:\\Anaconda3\\lib\\site-packages\\pandas\\plotting\\_matplotlib\\converter.py:103: FutureWarning: Using an implicitly registered datetime converter for a matplotlib plotting method. The converter was registered by pandas on import. Future versions of pandas will require you to explicitly register matplotlib converters.\n",
      "\n",
      "To register the converters:\n",
      "\t>>> from pandas.plotting import register_matplotlib_converters\n",
      "\t>>> register_matplotlib_converters()\n",
      "  warnings.warn(msg, FutureWarning)\n"
     ]
    },
    {
     "data": {
      "text/plain": [
       "[<matplotlib.lines.Line2D at 0x155a5f0>]"
      ]
     },
     "execution_count": 15,
     "metadata": {},
     "output_type": "execute_result"
    },
    {
     "data": {
      "image/png": "[encoded data removed]",
      "text/plain": [
       "<Figure size 432x288 with 1 Axes>"
      ]
     },
     "metadata": {
      "needs_background": "light"
     },
     "output_type": "display_data"
    }
   ],
   "source": [
    "plt.plot(gs.index, gs['Adj Close'])"
   ]
  },
  {
   "cell_type": "code",
   "execution_count": 17,
   "metadata": {},
   "outputs": [],
   "source": [
    "from pandas.plotting import register_matplotlib_converters"
   ]
  },
  {
   "cell_type": "code",
   "execution_count": 18,
   "metadata": {},
   "outputs": [],
   "source": [
    "register_matplotlib_converters()"
   ]
  },
  {
   "cell_type": "code",
   "execution_count": 20,
   "metadata": {},
   "outputs": [
    {
     "data": {
      "text/plain": [
       "[<matplotlib.lines.Line2D at 0x3c21630>]"
      ]
     },
     "execution_count": 20,
     "metadata": {},
     "output_type": "execute_result"
    },
    {
     "data": {
      "image/png": "[encoded data removed]",
      "text/plain": [
       "<Figure size 432x288 with 1 Axes>"
      ]
     },
     "metadata": {
      "needs_background": "light"
     },
     "output_type": "display_data"
    }
   ],
   "source": [
    "plt.plot(gs.index, gs['Adj Close'])"
   ]
  },
  {
   "cell_type": "code",
   "execution_count": 21,
   "metadata": {},
   "outputs": [
    {
     "data": {
      "text/html": [
       "<div>\n",
       "<style scoped>\n",
       "    .dataframe tbody tr th:only-of-type {\n",
       "        vertical-align: middle;\n",
       "    }\n",
       "\n",
       "    .dataframe tbody tr th {\n",
       "        vertical-align: top;\n",
       "    }\n",
       "\n",
       "    .dataframe thead th {\n",
       "        text-align: right;\n",
       "    }\n",
       "</style>\n",
       "<table border=\"1\" class=\"dataframe\">\n",
       "  <thead>\n",
       "    <tr style=\"text-align: right;\">\n",
       "      <th></th>\n",
       "      <th>High</th>\n",
       "      <th>Low</th>\n",
       "      <th>Open</th>\n",
       "      <th>Close</th>\n",
       "      <th>Volume</th>\n",
       "      <th>Adj Close</th>\n",
       "    </tr>\n",
       "    <tr>\n",
       "      <th>Date</th>\n",
       "      <th></th>\n",
       "      <th></th>\n",
       "      <th></th>\n",
       "      <th></th>\n",
       "      <th></th>\n",
       "      <th></th>\n",
       "    </tr>\n",
       "  </thead>\n",
       "  <tbody>\n",
       "    <tr>\n",
       "      <td>2020-03-02</td>\n",
       "      <td>41500.0</td>\n",
       "      <td>40400.0</td>\n",
       "      <td>41100.0</td>\n",
       "      <td>40800.0</td>\n",
       "      <td>187080.0</td>\n",
       "      <td>40800.0</td>\n",
       "    </tr>\n",
       "    <tr>\n",
       "      <td>2020-03-03</td>\n",
       "      <td>41650.0</td>\n",
       "      <td>40450.0</td>\n",
       "      <td>41000.0</td>\n",
       "      <td>40750.0</td>\n",
       "      <td>215622.0</td>\n",
       "      <td>40750.0</td>\n",
       "    </tr>\n",
       "    <tr>\n",
       "      <td>2020-03-04</td>\n",
       "      <td>41100.0</td>\n",
       "      <td>40550.0</td>\n",
       "      <td>40750.0</td>\n",
       "      <td>40650.0</td>\n",
       "      <td>200295.0</td>\n",
       "      <td>40650.0</td>\n",
       "    </tr>\n",
       "    <tr>\n",
       "      <td>2020-03-05</td>\n",
       "      <td>41300.0</td>\n",
       "      <td>40500.0</td>\n",
       "      <td>40650.0</td>\n",
       "      <td>41300.0</td>\n",
       "      <td>254575.0</td>\n",
       "      <td>41300.0</td>\n",
       "    </tr>\n",
       "    <tr>\n",
       "      <td>2020-03-06</td>\n",
       "      <td>41000.0</td>\n",
       "      <td>39650.0</td>\n",
       "      <td>41000.0</td>\n",
       "      <td>39800.0</td>\n",
       "      <td>333198.0</td>\n",
       "      <td>39800.0</td>\n",
       "    </tr>\n",
       "  </tbody>\n",
       "</table>\n",
       "</div>"
      ],
      "text/plain": [
       "               High      Low     Open    Close    Volume  Adj Close\n",
       "Date                                                               \n",
       "2020-03-02  41500.0  40400.0  41100.0  40800.0  187080.0    40800.0\n",
       "2020-03-03  41650.0  40450.0  41000.0  40750.0  215622.0    40750.0\n",
       "2020-03-04  41100.0  40550.0  40750.0  40650.0  200295.0    40650.0\n",
       "2020-03-05  41300.0  40500.0  40650.0  41300.0  254575.0    41300.0\n",
       "2020-03-06  41000.0  39650.0  41000.0  39800.0  333198.0    39800.0"
      ]
     },
     "execution_count": 21,
     "metadata": {},
     "output_type": "execute_result"
    }
   ],
   "source": [
    "gs.tail()"
   ]
  },
  {
   "cell_type": "code",
   "execution_count": 22,
   "metadata": {},
   "outputs": [],
   "source": [
    "ma5 = gs['Adj Close'].rolling(window=5).mean()"
   ]
  },
  {
   "cell_type": "code",
   "execution_count": 23,
   "metadata": {},
   "outputs": [
    {
     "data": {
      "text/plain": [
       "pandas.core.series.Series"
      ]
     },
     "execution_count": 23,
     "metadata": {},
     "output_type": "execute_result"
    }
   ],
   "source": [
    "type(ma5)"
   ]
  },
  {
   "cell_type": "code",
   "execution_count": 25,
   "metadata": {},
   "outputs": [
    {
     "data": {
      "text/plain": [
       "Date\n",
       "2020-02-24    44370.0\n",
       "2020-02-25    43530.0\n",
       "2020-02-26    42860.0\n",
       "2020-02-27    42220.0\n",
       "2020-02-28    41680.0\n",
       "2020-03-02    41520.0\n",
       "2020-03-03    41340.0\n",
       "2020-03-04    41080.0\n",
       "2020-03-05    40950.0\n",
       "2020-03-06    40660.0\n",
       "Name: Adj Close, dtype: float64"
      ]
     },
     "execution_count": 25,
     "metadata": {},
     "output_type": "execute_result"
    }
   ],
   "source": [
    "ma5.tail(10)"
   ]
  },
  {
   "cell_type": "code",
   "execution_count": 26,
   "metadata": {},
   "outputs": [],
   "source": [
    "gs.insert(len(gs.columns), \"MA5\", ma5)"
   ]
  },
  {
   "cell_type": "code",
   "execution_count": 27,
   "metadata": {},
   "outputs": [
    {
     "data": {
      "text/html": [
       "<div>\n",
       "<style scoped>\n",
       "    .dataframe tbody tr th:only-of-type {\n",
       "        vertical-align: middle;\n",
       "    }\n",
       "\n",
       "    .dataframe tbody tr th {\n",
       "        vertical-align: top;\n",
       "    }\n",
       "\n",
       "    .dataframe thead th {\n",
       "        text-align: right;\n",
       "    }\n",
       "</style>\n",
       "<table border=\"1\" class=\"dataframe\">\n",
       "  <thead>\n",
       "    <tr style=\"text-align: right;\">\n",
       "      <th></th>\n",
       "      <th>High</th>\n",
       "      <th>Low</th>\n",
       "      <th>Open</th>\n",
       "      <th>Close</th>\n",
       "      <th>Volume</th>\n",
       "      <th>Adj Close</th>\n",
       "      <th>MA5</th>\n",
       "    </tr>\n",
       "    <tr>\n",
       "      <th>Date</th>\n",
       "      <th></th>\n",
       "      <th></th>\n",
       "      <th></th>\n",
       "      <th></th>\n",
       "      <th></th>\n",
       "      <th></th>\n",
       "      <th></th>\n",
       "    </tr>\n",
       "  </thead>\n",
       "  <tbody>\n",
       "    <tr>\n",
       "      <td>2020-02-24</td>\n",
       "      <td>43600.0</td>\n",
       "      <td>41500.0</td>\n",
       "      <td>43550.0</td>\n",
       "      <td>41600.0</td>\n",
       "      <td>229758.0</td>\n",
       "      <td>41600.0</td>\n",
       "      <td>44370.0</td>\n",
       "    </tr>\n",
       "    <tr>\n",
       "      <td>2020-02-25</td>\n",
       "      <td>41750.0</td>\n",
       "      <td>40750.0</td>\n",
       "      <td>41100.0</td>\n",
       "      <td>41650.0</td>\n",
       "      <td>198750.0</td>\n",
       "      <td>41650.0</td>\n",
       "      <td>43530.0</td>\n",
       "    </tr>\n",
       "    <tr>\n",
       "      <td>2020-02-26</td>\n",
       "      <td>42000.0</td>\n",
       "      <td>41050.0</td>\n",
       "      <td>41400.0</td>\n",
       "      <td>41950.0</td>\n",
       "      <td>252165.0</td>\n",
       "      <td>41950.0</td>\n",
       "      <td>42860.0</td>\n",
       "    </tr>\n",
       "    <tr>\n",
       "      <td>2020-02-27</td>\n",
       "      <td>42000.0</td>\n",
       "      <td>41150.0</td>\n",
       "      <td>41500.0</td>\n",
       "      <td>41950.0</td>\n",
       "      <td>210228.0</td>\n",
       "      <td>41950.0</td>\n",
       "      <td>42220.0</td>\n",
       "    </tr>\n",
       "    <tr>\n",
       "      <td>2020-02-28</td>\n",
       "      <td>41600.0</td>\n",
       "      <td>40950.0</td>\n",
       "      <td>41600.0</td>\n",
       "      <td>41250.0</td>\n",
       "      <td>294536.0</td>\n",
       "      <td>41250.0</td>\n",
       "      <td>41680.0</td>\n",
       "    </tr>\n",
       "    <tr>\n",
       "      <td>2020-03-02</td>\n",
       "      <td>41500.0</td>\n",
       "      <td>40400.0</td>\n",
       "      <td>41100.0</td>\n",
       "      <td>40800.0</td>\n",
       "      <td>187080.0</td>\n",
       "      <td>40800.0</td>\n",
       "      <td>41520.0</td>\n",
       "    </tr>\n",
       "    <tr>\n",
       "      <td>2020-03-03</td>\n",
       "      <td>41650.0</td>\n",
       "      <td>40450.0</td>\n",
       "      <td>41000.0</td>\n",
       "      <td>40750.0</td>\n",
       "      <td>215622.0</td>\n",
       "      <td>40750.0</td>\n",
       "      <td>41340.0</td>\n",
       "    </tr>\n",
       "    <tr>\n",
       "      <td>2020-03-04</td>\n",
       "      <td>41100.0</td>\n",
       "      <td>40550.0</td>\n",
       "      <td>40750.0</td>\n",
       "      <td>40650.0</td>\n",
       "      <td>200295.0</td>\n",
       "      <td>40650.0</td>\n",
       "      <td>41080.0</td>\n",
       "    </tr>\n",
       "    <tr>\n",
       "      <td>2020-03-05</td>\n",
       "      <td>41300.0</td>\n",
       "      <td>40500.0</td>\n",
       "      <td>40650.0</td>\n",
       "      <td>41300.0</td>\n",
       "      <td>254575.0</td>\n",
       "      <td>41300.0</td>\n",
       "      <td>40950.0</td>\n",
       "    </tr>\n",
       "    <tr>\n",
       "      <td>2020-03-06</td>\n",
       "      <td>41000.0</td>\n",
       "      <td>39650.0</td>\n",
       "      <td>41000.0</td>\n",
       "      <td>39800.0</td>\n",
       "      <td>333198.0</td>\n",
       "      <td>39800.0</td>\n",
       "      <td>40660.0</td>\n",
       "    </tr>\n",
       "  </tbody>\n",
       "</table>\n",
       "</div>"
      ],
      "text/plain": [
       "               High      Low     Open    Close    Volume  Adj Close      MA5\n",
       "Date                                                                        \n",
       "2020-02-24  43600.0  41500.0  43550.0  41600.0  229758.0    41600.0  44370.0\n",
       "2020-02-25  41750.0  40750.0  41100.0  41650.0  198750.0    41650.0  43530.0\n",
       "2020-02-26  42000.0  41050.0  41400.0  41950.0  252165.0    41950.0  42860.0\n",
       "2020-02-27  42000.0  41150.0  41500.0  41950.0  210228.0    41950.0  42220.0\n",
       "2020-02-28  41600.0  40950.0  41600.0  41250.0  294536.0    41250.0  41680.0\n",
       "2020-03-02  41500.0  40400.0  41100.0  40800.0  187080.0    40800.0  41520.0\n",
       "2020-03-03  41650.0  40450.0  41000.0  40750.0  215622.0    40750.0  41340.0\n",
       "2020-03-04  41100.0  40550.0  40750.0  40650.0  200295.0    40650.0  41080.0\n",
       "2020-03-05  41300.0  40500.0  40650.0  41300.0  254575.0    41300.0  40950.0\n",
       "2020-03-06  41000.0  39650.0  41000.0  39800.0  333198.0    39800.0  40660.0"
      ]
     },
     "execution_count": 27,
     "metadata": {},
     "output_type": "execute_result"
    }
   ],
   "source": [
    "gs.tail(10)"
   ]
  },
  {
   "cell_type": "code",
   "execution_count": 28,
   "metadata": {},
   "outputs": [],
   "source": [
    "ma20 = gs['Adj Close'].rolling(window=20).mean()"
   ]
  },
  {
   "cell_type": "code",
   "execution_count": 29,
   "metadata": {},
   "outputs": [],
   "source": [
    "ma60 = gs['Adj Close'].rolling(window=60).mean()"
   ]
  },
  {
   "cell_type": "code",
   "execution_count": 30,
   "metadata": {},
   "outputs": [],
   "source": [
    "ma120 = gs['Adj Close'].rolling(window=120).mean()"
   ]
  },
  {
   "cell_type": "code",
   "execution_count": 31,
   "metadata": {},
   "outputs": [],
   "source": [
    "gs.insert(len(gs.columns), \"MA20\", ma20)"
   ]
  },
  {
   "cell_type": "code",
   "execution_count": 32,
   "metadata": {},
   "outputs": [],
   "source": [
    "gs.insert(len(gs.columns), \"MA60\", ma60)"
   ]
  },
  {
   "cell_type": "code",
   "execution_count": 33,
   "metadata": {},
   "outputs": [],
   "source": [
    "gs.insert(len(gs.columns), \"MA120\", ma120)"
   ]
  },
  {
   "cell_type": "code",
   "execution_count": 35,
   "metadata": {},
   "outputs": [
    {
     "data": {
      "text/html": [
       "<div>\n",
       "<style scoped>\n",
       "    .dataframe tbody tr th:only-of-type {\n",
       "        vertical-align: middle;\n",
       "    }\n",
       "\n",
       "    .dataframe tbody tr th {\n",
       "        vertical-align: top;\n",
       "    }\n",
       "\n",
       "    .dataframe thead th {\n",
       "        text-align: right;\n",
       "    }\n",
       "</style>\n",
       "<table border=\"1\" class=\"dataframe\">\n",
       "  <thead>\n",
       "    <tr style=\"text-align: right;\">\n",
       "      <th></th>\n",
       "      <th>High</th>\n",
       "      <th>Low</th>\n",
       "      <th>Open</th>\n",
       "      <th>Close</th>\n",
       "      <th>Volume</th>\n",
       "      <th>Adj Close</th>\n",
       "      <th>MA5</th>\n",
       "      <th>MA20</th>\n",
       "      <th>MA60</th>\n",
       "      <th>MA120</th>\n",
       "    </tr>\n",
       "    <tr>\n",
       "      <th>Date</th>\n",
       "      <th></th>\n",
       "      <th></th>\n",
       "      <th></th>\n",
       "      <th></th>\n",
       "      <th></th>\n",
       "      <th></th>\n",
       "      <th></th>\n",
       "      <th></th>\n",
       "      <th></th>\n",
       "      <th></th>\n",
       "    </tr>\n",
       "  </thead>\n",
       "  <tbody>\n",
       "    <tr>\n",
       "      <td>2020-02-24</td>\n",
       "      <td>43600.0</td>\n",
       "      <td>41500.0</td>\n",
       "      <td>43550.0</td>\n",
       "      <td>41600.0</td>\n",
       "      <td>229758.0</td>\n",
       "      <td>41600.0</td>\n",
       "      <td>44370.0</td>\n",
       "      <td>45605.0</td>\n",
       "      <td>48420.833333</td>\n",
       "      <td>49077.916667</td>\n",
       "    </tr>\n",
       "    <tr>\n",
       "      <td>2020-02-25</td>\n",
       "      <td>41750.0</td>\n",
       "      <td>40750.0</td>\n",
       "      <td>41100.0</td>\n",
       "      <td>41650.0</td>\n",
       "      <td>198750.0</td>\n",
       "      <td>41650.0</td>\n",
       "      <td>43530.0</td>\n",
       "      <td>45360.0</td>\n",
       "      <td>48303.333333</td>\n",
       "      <td>49047.916667</td>\n",
       "    </tr>\n",
       "    <tr>\n",
       "      <td>2020-02-26</td>\n",
       "      <td>42000.0</td>\n",
       "      <td>41050.0</td>\n",
       "      <td>41400.0</td>\n",
       "      <td>41950.0</td>\n",
       "      <td>252165.0</td>\n",
       "      <td>41950.0</td>\n",
       "      <td>42860.0</td>\n",
       "      <td>45130.0</td>\n",
       "      <td>48183.333333</td>\n",
       "      <td>49014.166667</td>\n",
       "    </tr>\n",
       "    <tr>\n",
       "      <td>2020-02-27</td>\n",
       "      <td>42000.0</td>\n",
       "      <td>41150.0</td>\n",
       "      <td>41500.0</td>\n",
       "      <td>41950.0</td>\n",
       "      <td>210228.0</td>\n",
       "      <td>41950.0</td>\n",
       "      <td>42220.0</td>\n",
       "      <td>44907.5</td>\n",
       "      <td>48071.666667</td>\n",
       "      <td>48980.416667</td>\n",
       "    </tr>\n",
       "    <tr>\n",
       "      <td>2020-02-28</td>\n",
       "      <td>41600.0</td>\n",
       "      <td>40950.0</td>\n",
       "      <td>41600.0</td>\n",
       "      <td>41250.0</td>\n",
       "      <td>294536.0</td>\n",
       "      <td>41250.0</td>\n",
       "      <td>41680.0</td>\n",
       "      <td>44685.0</td>\n",
       "      <td>47961.666667</td>\n",
       "      <td>48924.166667</td>\n",
       "    </tr>\n",
       "    <tr>\n",
       "      <td>2020-03-02</td>\n",
       "      <td>41500.0</td>\n",
       "      <td>40400.0</td>\n",
       "      <td>41100.0</td>\n",
       "      <td>40800.0</td>\n",
       "      <td>187080.0</td>\n",
       "      <td>40800.0</td>\n",
       "      <td>41520.0</td>\n",
       "      <td>44475.0</td>\n",
       "      <td>47836.666667</td>\n",
       "      <td>48865.416667</td>\n",
       "    </tr>\n",
       "    <tr>\n",
       "      <td>2020-03-03</td>\n",
       "      <td>41650.0</td>\n",
       "      <td>40450.0</td>\n",
       "      <td>41000.0</td>\n",
       "      <td>40750.0</td>\n",
       "      <td>215622.0</td>\n",
       "      <td>40750.0</td>\n",
       "      <td>41340.0</td>\n",
       "      <td>44247.5</td>\n",
       "      <td>47710.000000</td>\n",
       "      <td>48810.000000</td>\n",
       "    </tr>\n",
       "    <tr>\n",
       "      <td>2020-03-04</td>\n",
       "      <td>41100.0</td>\n",
       "      <td>40550.0</td>\n",
       "      <td>40750.0</td>\n",
       "      <td>40650.0</td>\n",
       "      <td>200295.0</td>\n",
       "      <td>40650.0</td>\n",
       "      <td>41080.0</td>\n",
       "      <td>44025.0</td>\n",
       "      <td>47575.833333</td>\n",
       "      <td>48750.833333</td>\n",
       "    </tr>\n",
       "    <tr>\n",
       "      <td>2020-03-05</td>\n",
       "      <td>41300.0</td>\n",
       "      <td>40500.0</td>\n",
       "      <td>40650.0</td>\n",
       "      <td>41300.0</td>\n",
       "      <td>254575.0</td>\n",
       "      <td>41300.0</td>\n",
       "      <td>40950.0</td>\n",
       "      <td>43737.5</td>\n",
       "      <td>47455.833333</td>\n",
       "      <td>48695.000000</td>\n",
       "    </tr>\n",
       "    <tr>\n",
       "      <td>2020-03-06</td>\n",
       "      <td>41000.0</td>\n",
       "      <td>39650.0</td>\n",
       "      <td>41000.0</td>\n",
       "      <td>39800.0</td>\n",
       "      <td>333198.0</td>\n",
       "      <td>39800.0</td>\n",
       "      <td>40660.0</td>\n",
       "      <td>43427.5</td>\n",
       "      <td>47300.833333</td>\n",
       "      <td>48624.583333</td>\n",
       "    </tr>\n",
       "  </tbody>\n",
       "</table>\n",
       "</div>"
      ],
      "text/plain": [
       "               High      Low     Open    Close    Volume  Adj Close      MA5  \\\n",
       "Date                                                                           \n",
       "2020-02-24  43600.0  41500.0  43550.0  41600.0  229758.0    41600.0  44370.0   \n",
       "2020-02-25  41750.0  40750.0  41100.0  41650.0  198750.0    41650.0  43530.0   \n",
       "2020-02-26  42000.0  41050.0  41400.0  41950.0  252165.0    41950.0  42860.0   \n",
       "2020-02-27  42000.0  41150.0  41500.0  41950.0  210228.0    41950.0  42220.0   \n",
       "2020-02-28  41600.0  40950.0  41600.0  41250.0  294536.0    41250.0  41680.0   \n",
       "2020-03-02  41500.0  40400.0  41100.0  40800.0  187080.0    40800.0  41520.0   \n",
       "2020-03-03  41650.0  40450.0  41000.0  40750.0  215622.0    40750.0  41340.0   \n",
       "2020-03-04  41100.0  40550.0  40750.0  40650.0  200295.0    40650.0  41080.0   \n",
       "2020-03-05  41300.0  40500.0  40650.0  41300.0  254575.0    41300.0  40950.0   \n",
       "2020-03-06  41000.0  39650.0  41000.0  39800.0  333198.0    39800.0  40660.0   \n",
       "\n",
       "               MA20          MA60         MA120  \n",
       "Date                                             \n",
       "2020-02-24  45605.0  48420.833333  49077.916667  \n",
       "2020-02-25  45360.0  48303.333333  49047.916667  \n",
       "2020-02-26  45130.0  48183.333333  49014.166667  \n",
       "2020-02-27  44907.5  48071.666667  48980.416667  \n",
       "2020-02-28  44685.0  47961.666667  48924.166667  \n",
       "2020-03-02  44475.0  47836.666667  48865.416667  \n",
       "2020-03-03  44247.5  47710.000000  48810.000000  \n",
       "2020-03-04  44025.0  47575.833333  48750.833333  \n",
       "2020-03-05  43737.5  47455.833333  48695.000000  \n",
       "2020-03-06  43427.5  47300.833333  48624.583333  "
      ]
     },
     "execution_count": 35,
     "metadata": {},
     "output_type": "execute_result"
    }
   ],
   "source": [
    "gs.tail(10)"
   ]
  },
  {
   "cell_type": "code",
   "execution_count": 36,
   "metadata": {},
   "outputs": [
    {
     "data": {
      "text/plain": [
       "[<matplotlib.lines.Line2D at 0x3c53ed0>]"
      ]
     },
     "execution_count": 36,
     "metadata": {},
     "output_type": "execute_result"
    },
    {
     "data": {
      "image/png": "[encoded data removed]",
      "text/plain": [
       "<Figure size 432x288 with 1 Axes>"
      ]
     },
     "metadata": {
      "needs_background": "light"
     },
     "output_type": "display_data"
    }
   ],
   "source": [
    "plt.plot(gs.index, gs['Adj Close'], label=\"Adj Close\")"
   ]
  },
  {
   "cell_type": "code",
   "execution_count": 37,
   "metadata": {},
   "outputs": [
    {
     "data": {
      "text/plain": [
       "[<matplotlib.lines.Line2D at 0x3cb81b0>]"
      ]
     },
     "execution_count": 37,
     "metadata": {},
     "output_type": "execute_result"
    },
    {
     "data": {
      "image/png": "[encoded data removed]",
      "text/plain": [
       "<Figure size 432x288 with 1 Axes>"
      ]
     },
     "metadata": {
      "needs_background": "light"
     },
     "output_type": "display_data"
    }
   ],
   "source": [
    "plt.plot(gs.index, gs['MA5'], label=\"MA5\")"
   ]
  },
  {
   "cell_type": "code",
   "execution_count": 38,
   "metadata": {},
   "outputs": [
    {
     "data": {
      "text/plain": [
       "[<matplotlib.lines.Line2D at 0x3cf2730>]"
      ]
     },
     "execution_count": 38,
     "metadata": {},
     "output_type": "execute_result"
    },
    {
     "data": {
      "image/png": "[encoded data removed]",
      "text/plain": [
       "<Figure size 432x288 with 1 Axes>"
      ]
     },
     "metadata": {
      "needs_background": "light"
     },
     "output_type": "display_data"
    }
   ],
   "source": [
    "plt.plot(gs.index, gs['MA20'], label=\"MA20\")"
   ]
  },
  {
   "cell_type": "code",
   "execution_count": 39,
   "metadata": {},
   "outputs": [
    {
     "data": {
      "text/plain": [
       "[<matplotlib.lines.Line2D at 0x3d164d0>]"
      ]
     },
     "execution_count": 39,
     "metadata": {},
     "output_type": "execute_result"
    },
    {
     "data": {
      "image/png": "[encoded data removed]",
      "text/plain": [
       "<Figure size 432x288 with 1 Axes>"
      ]
     },
     "metadata": {
      "needs_background": "light"
     },
     "output_type": "display_data"
    }
   ],
   "source": [
    "plt.plot(gs.index, gs['MA60'], label=\"MA60\")"
   ]
  },
  {
   "cell_type": "code",
   "execution_count": 40,
   "metadata": {},
   "outputs": [
    {
     "data": {
      "text/plain": [
       "[<matplotlib.lines.Line2D at 0x3d6c250>]"
      ]
     },
     "execution_count": 40,
     "metadata": {},
     "output_type": "execute_result"
    },
    {
     "data": {
      "image/png": "[encoded data removed]",
      "text/plain": [
       "<Figure size 432x288 with 1 Axes>"
      ]
     },
     "metadata": {
      "needs_background": "light"
     },
     "output_type": "display_data"
    }
   ],
   "source": [
    "plt.plot(gs.index, gs['MA120'], label=\"MA120\")"
   ]
  },
  {
   "cell_type": "code",
   "execution_count": 43,
   "metadata": {},
   "outputs": [
    {
     "data": {
      "image/png": "[encoded data removed]",
      "text/plain": [
       "<Figure size 432x288 with 1 Axes>"
      ]
     },
     "metadata": {
      "needs_background": "light"
     },
     "output_type": "display_data"
    }
   ],
   "source": [
    "plt.plot(gs.index, gs['Adj Close'], label=\"Adj Close\")\n",
    "plt.plot(gs.index, gs['MA5'], label=\"MA5\")\n",
    "plt.plot(gs.index, gs['MA20'], label=\"MA20\")\n",
    "plt.plot(gs.index, gs['MA60'], label=\"MA60\")\n",
    "plt.plot(gs.index, gs['MA120'], label=\"MA120\")\n",
    "plt.legend(loc=\"best\")\n",
    "plt.grid()\n",
    "plt.show()"
   ]
  },
  {
   "cell_type": "code",
   "execution_count": null,
   "metadata": {},
   "outputs": [],
   "source": []
  },
  {
   "cell_type": "code",
   "execution_count": null,
   "metadata": {},
   "outputs": [],
   "source": []
  },
  {
   "cell_type": "code",
   "execution_count": null,
   "metadata": {},
   "outputs": [],
   "source": []
  },
  {
   "cell_type": "code",
   "execution_count": null,
   "metadata": {},
   "outputs": [],
   "source": []
  },
  {
   "cell_type": "code",
   "execution_count": null,
   "metadata": {},
   "outputs": [],
   "source": []
  }
 ],
 "metadata": {
  "kernelspec": {
   "display_name": "Python 3",
   "language": "python",
   "name": "python3"
  },
  "language_info": {
   "codemirror_mode": {
    "name": "ipython",
    "version": 3
   },
   "file_extension": ".py",
   "mimetype": "text/x-python",
   "name": "python",
   "nbconvert_exporter": "python",
   "pygments_lexer": "ipython3",
   "version": "3.7.4"
  }
 },
 "nbformat": 4,
 "nbformat_minor": 2
}
